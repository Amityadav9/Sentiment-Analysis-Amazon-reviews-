{
  "nbformat": 4,
  "nbformat_minor": 0,
  "metadata": {
    "colab": {
      "provenance": [],
      "authorship_tag": "ABX9TyN6TssCQHWy2BYzXz7x0zVq",
      "include_colab_link": true
    },
    "kernelspec": {
      "name": "python3",
      "display_name": "Python 3"
    },
    "accelerator": "GPU"
  },
  "cells": [
    {
      "cell_type": "markdown",
      "metadata": {
        "id": "view-in-github",
        "colab_type": "text"
      },
      "source": [
        "<a href=\"https://colab.research.google.com/github/Amityadav9/Sentiment-Analysis-Amazon-reviews-/blob/main/Sentiment_Analysis(Amazon_reviews)_Using_Keras_Embedding_Layer_in_TensorFlow_2_0.ipynb\" target=\"_parent\"><img src=\"https://colab.research.google.com/assets/colab-badge.svg\" alt=\"Open In Colab\"/></a>"
      ]
    },
    {
      "cell_type": "code",
      "metadata": {
        "id": "oEItoZZvgKIK"
      },
      "source": [],
      "execution_count": null,
      "outputs": []
    },
    {
      "cell_type": "code",
      "metadata": {
        "id": "Zs24kFfKgV8h"
      },
      "source": [
        "try:\n",
        "    %tensorflow_version 2.x\n",
        "except:    \n",
        "    !pip install --upgrade tensorflow"
      ],
      "execution_count": null,
      "outputs": []
    },
    {
      "cell_type": "code",
      "metadata": {
        "id": "Mexlp5makGcn",
        "colab": {
          "base_uri": "https://localhost:8080/",
          "height": 124
        },
        "outputId": "7175a458-7e84-4bce-c255-4e97e6894407"
      },
      "source": [
        "from google.colab import drive\n",
        "drive.mount('/content/drive', force_remount= True)"
      ],
      "execution_count": null,
      "outputs": [
        {
          "output_type": "stream",
          "text": [
            "Go to this URL in a browser: https://accounts.google.com/o/oauth2/auth?client_id=947318989803-6bn6qk8qdgf4n4g3pfee6491hc0brc4i.apps.googleusercontent.com&redirect_uri=urn%3aietf%3awg%3aoauth%3a2.0%3aoob&response_type=code&scope=email%20https%3a%2f%2fwww.googleapis.com%2fauth%2fdocs.test%20https%3a%2f%2fwww.googleapis.com%2fauth%2fdrive%20https%3a%2f%2fwww.googleapis.com%2fauth%2fdrive.photos.readonly%20https%3a%2f%2fwww.googleapis.com%2fauth%2fpeopleapi.readonly\n",
            "\n",
            "Enter your authorization code:\n",
            "··········\n",
            "Mounted at /content/drive\n"
          ],
          "name": "stdout"
        }
      ]
    },
    {
      "cell_type": "code",
      "metadata": {
        "id": "XSWdOAVGmnZX",
        "colab": {
          "base_uri": "https://localhost:8080/",
          "height": 35
        },
        "outputId": "da48bba0-a330-40f4-877e-29894699f0d5"
      },
      "source": [
        "%cd /content/drive/My Drive/Dataset"
      ],
      "execution_count": null,
      "outputs": [
        {
          "output_type": "stream",
          "text": [
            "/content/drive/My Drive/Dataset\n"
          ],
          "name": "stdout"
        }
      ]
    },
    {
      "cell_type": "code",
      "metadata": {
        "id": "uh32Xe-Om4aj",
        "colab": {
          "base_uri": "https://localhost:8080/",
          "height": 139
        },
        "outputId": "5f9dcb2f-679d-4b16-d49f-06a7a2fad1db"
      },
      "source": [
        "!unzip amazonreviews.zip"
      ],
      "execution_count": null,
      "outputs": [
        {
          "output_type": "stream",
          "text": [
            "Archive:  amazonreviews.zip\n",
            "replace test.ft.txt.bz2? [y]es, [n]o, [A]ll, [N]one, [r]ename: y\n",
            "  inflating: test.ft.txt.bz2         \n",
            "replace train.ft.txt.bz2? [y]es, [n]o, [A]ll, [N]one, [r]ename: y\n",
            "  inflating: train.ft.txt.bz2        y\n",
            "y\n",
            "\n"
          ],
          "name": "stdout"
        }
      ]
    },
    {
      "cell_type": "markdown",
      "metadata": {
        "id": "1meAxaziwz6A"
      },
      "source": [
        "# New Section"
      ]
    },
    {
      "cell_type": "code",
      "metadata": {
        "id": "WDqM3m33oEfg",
        "colab": {
          "base_uri": "https://localhost:8080/",
          "height": 35
        },
        "outputId": "b33495ef-ae37-42a6-e44d-09e04962ed32"
      },
      "source": [
        "!bzip2 -d train.ft.txt.bz2"
      ],
      "execution_count": null,
      "outputs": [
        {
          "output_type": "stream",
          "text": [
            "bzip2: Output file train.ft.txt already exists.\n"
          ],
          "name": "stdout"
        }
      ]
    },
    {
      "cell_type": "code",
      "metadata": {
        "id": "D73ovQVs7GXd"
      },
      "source": [
        "with open('train.ft.txt', 'r') as file:\n",
        "    lines = file.readlines()"
      ],
      "execution_count": null,
      "outputs": []
    },
    {
      "cell_type": "code",
      "metadata": {
        "id": "3WzyGqoa7aLY"
      },
      "source": [
        "lines"
      ],
      "execution_count": null,
      "outputs": []
    },
    {
      "cell_type": "code",
      "metadata": {
        "id": "rpCkf6HT7abT",
        "colab": {
          "base_uri": "https://localhost:8080/",
          "height": 35
        },
        "outputId": "4b05baf8-88b4-4dc3-8ada-b093acf5aea9"
      },
      "source": [
        "print(len(lines))"
      ],
      "execution_count": null,
      "outputs": [
        {
          "output_type": "stream",
          "text": [
            "3600000\n"
          ],
          "name": "stdout"
        }
      ]
    },
    {
      "cell_type": "code",
      "metadata": {
        "id": "qneRWaGl7ao1"
      },
      "source": [
        "import pandas as pd\n",
        "DF_text_data = pd.DataFrame()"
      ],
      "execution_count": null,
      "outputs": []
    },
    {
      "cell_type": "code",
      "metadata": {
        "id": "6zM6yuAM-w2N"
      },
      "source": [
        "texts=[]\n",
        "labels=[]\n",
        "\n",
        "for line in lines:\n",
        "    line = line.split()\n",
        "    labels.append(1) if line[0] ==\"__label__2\" else labels.append(0)\n",
        "    texts.append(\" \".join(line[1:]))\n",
        "\n",
        "DF_text_data['reviews'] = texts\n",
        "DF_text_data['labels'] = labels"
      ],
      "execution_count": null,
      "outputs": []
    },
    {
      "cell_type": "code",
      "metadata": {
        "id": "HWbdrbNE_ASf",
        "colab": {
          "base_uri": "https://localhost:8080/",
          "height": 202
        },
        "outputId": "e85d29c6-2821-4624-85c4-6cf89deaf9cb"
      },
      "source": [
        "DF_text_data.head()"
      ],
      "execution_count": null,
      "outputs": [
        {
          "output_type": "execute_result",
          "data": {
            "text/html": [
              "<div>\n",
              "<style scoped>\n",
              "    .dataframe tbody tr th:only-of-type {\n",
              "        vertical-align: middle;\n",
              "    }\n",
              "\n",
              "    .dataframe tbody tr th {\n",
              "        vertical-align: top;\n",
              "    }\n",
              "\n",
              "    .dataframe thead th {\n",
              "        text-align: right;\n",
              "    }\n",
              "</style>\n",
              "<table border=\"1\" class=\"dataframe\">\n",
              "  <thead>\n",
              "    <tr style=\"text-align: right;\">\n",
              "      <th></th>\n",
              "      <th>reviews</th>\n",
              "      <th>labels</th>\n",
              "    </tr>\n",
              "  </thead>\n",
              "  <tbody>\n",
              "    <tr>\n",
              "      <th>0</th>\n",
              "      <td>Stuning even for the non-gamer: This sound tra...</td>\n",
              "      <td>1</td>\n",
              "    </tr>\n",
              "    <tr>\n",
              "      <th>1</th>\n",
              "      <td>The best soundtrack ever to anything.: I'm rea...</td>\n",
              "      <td>1</td>\n",
              "    </tr>\n",
              "    <tr>\n",
              "      <th>2</th>\n",
              "      <td>Amazing!: This soundtrack is my favorite music...</td>\n",
              "      <td>1</td>\n",
              "    </tr>\n",
              "    <tr>\n",
              "      <th>3</th>\n",
              "      <td>Excellent Soundtrack: I truly like this soundt...</td>\n",
              "      <td>1</td>\n",
              "    </tr>\n",
              "    <tr>\n",
              "      <th>4</th>\n",
              "      <td>Remember, Pull Your Jaw Off The Floor After He...</td>\n",
              "      <td>1</td>\n",
              "    </tr>\n",
              "  </tbody>\n",
              "</table>\n",
              "</div>"
            ],
            "text/plain": [
              "                                             reviews  labels\n",
              "0  Stuning even for the non-gamer: This sound tra...       1\n",
              "1  The best soundtrack ever to anything.: I'm rea...       1\n",
              "2  Amazing!: This soundtrack is my favorite music...       1\n",
              "3  Excellent Soundtrack: I truly like this soundt...       1\n",
              "4  Remember, Pull Your Jaw Off The Floor After He...       1"
            ]
          },
          "metadata": {
            "tags": []
          },
          "execution_count": 12
        }
      ]
    },
    {
      "cell_type": "code",
      "metadata": {
        "id": "6MMRyfoJ_kNv"
      },
      "source": [
        "from sklearn import model_selection\n",
        "_, X_data,_, y_data = \\\n",
        "    model_selection.train_test_split(DF_text_data['reviews'], \n",
        "                                     DF_text_data['labels'], test_size=0.02)"
      ],
      "execution_count": null,
      "outputs": []
    },
    {
      "cell_type": "code",
      "metadata": {
        "id": "p3s_S0euBAhX"
      },
      "source": [
        "def preprocess(in_text):\n",
        "   \n",
        "    # If we have html tags, remove them by this way:\n",
        "   # out_text = remove_tags(in_text)\n",
        "   \n",
        "    # Remove punctuations and numbers\n",
        "    out_text = re.sub('[^a-zA-Z]', ' ', in_text)\n",
        "   \n",
        "    # Convert upper case to lower case\n",
        "    out_text=\"\".join(list(map(lambda x:x.lower(),out_text)))\n",
        "   \n",
        "    # Remove single character\n",
        "    out_text = re.sub(r\"\\s+[a-zA-Z]\\s+\", ' ', out_text)\n",
        "    return out_text"
      ],
      "execution_count": null,
      "outputs": []
    },
    {
      "cell_type": "code",
      "metadata": {
        "id": "j-aWthZeBp5a"
      },
      "source": [
        "#Performing preprocessing\n",
        "import re\n",
        "\n",
        "text_data = []\n",
        "for review in list(X_data): \n",
        "  text_data.append(preprocess(review))"
      ],
      "execution_count": null,
      "outputs": []
    },
    {
      "cell_type": "code",
      "metadata": {
        "id": "vpiUy-TUCmaj"
      },
      "source": [
        "#text_data"
      ],
      "execution_count": null,
      "outputs": []
    },
    {
      "cell_type": "code",
      "metadata": {
        "id": "hlJbdfa7C38i"
      },
      "source": [
        "DF_text = pd.DataFrame()\n",
        "DF_text ['reviews'] = text_data\n",
        "DF_text ['labels'] = list(y_data)"
      ],
      "execution_count": null,
      "outputs": []
    },
    {
      "cell_type": "code",
      "metadata": {
        "id": "i2-8JBtWDfU3",
        "colab": {
          "base_uri": "https://localhost:8080/",
          "height": 202
        },
        "outputId": "8f4efa25-b942-42e8-d164-3f92ff3f1f72"
      },
      "source": [
        "DF_text.head()"
      ],
      "execution_count": null,
      "outputs": [
        {
          "output_type": "execute_result",
          "data": {
            "text/html": [
              "<div>\n",
              "<style scoped>\n",
              "    .dataframe tbody tr th:only-of-type {\n",
              "        vertical-align: middle;\n",
              "    }\n",
              "\n",
              "    .dataframe tbody tr th {\n",
              "        vertical-align: top;\n",
              "    }\n",
              "\n",
              "    .dataframe thead th {\n",
              "        text-align: right;\n",
              "    }\n",
              "</style>\n",
              "<table border=\"1\" class=\"dataframe\">\n",
              "  <thead>\n",
              "    <tr style=\"text-align: right;\">\n",
              "      <th></th>\n",
              "      <th>reviews</th>\n",
              "      <th>labels</th>\n",
              "    </tr>\n",
              "  </thead>\n",
              "  <tbody>\n",
              "    <tr>\n",
              "      <th>0</th>\n",
              "      <td>great sound  great sound  the automatic speake...</td>\n",
              "      <td>1</td>\n",
              "    </tr>\n",
              "    <tr>\n",
              "      <th>1</th>\n",
              "      <td>repetitive and boring  in this game you are re...</td>\n",
              "      <td>0</td>\n",
              "    </tr>\n",
              "    <tr>\n",
              "      <th>2</th>\n",
              "      <td>from romantic to raucous     after read lot of...</td>\n",
              "      <td>1</td>\n",
              "    </tr>\n",
              "    <tr>\n",
              "      <th>3</th>\n",
              "      <td>for rats   for hell of living dead  first of...</td>\n",
              "      <td>1</td>\n",
              "    </tr>\n",
              "    <tr>\n",
              "      <th>4</th>\n",
              "      <td>not describe well received this necklace and i...</td>\n",
              "      <td>0</td>\n",
              "    </tr>\n",
              "  </tbody>\n",
              "</table>\n",
              "</div>"
            ],
            "text/plain": [
              "                                             reviews  labels\n",
              "0  great sound  great sound  the automatic speake...       1\n",
              "1  repetitive and boring  in this game you are re...       0\n",
              "2  from romantic to raucous     after read lot of...       1\n",
              "3    for rats   for hell of living dead  first of...       1\n",
              "4  not describe well received this necklace and i...       0"
            ]
          },
          "metadata": {
            "tags": []
          },
          "execution_count": 18
        }
      ]
    },
    {
      "cell_type": "code",
      "metadata": {
        "id": "RHyU2aaBDkOs",
        "colab": {
          "base_uri": "https://localhost:8080/",
          "height": 351
        },
        "outputId": "d2969111-6861-4792-ab8d-b39ee3382369"
      },
      "source": [
        "#Plot data distribution\n",
        "\n",
        "import seaborn as sns\n",
        "sns.countplot(x='labels', data=DF_text)\n",
        "\n",
        "\"\"\"\n",
        "If you use Anaconda with PyCharm uncomment these lines to show the figure.\n",
        "\"\"\"\n",
        "\n",
        "#import matplot.pyplot as as plt\n",
        "#plt.show()"
      ],
      "execution_count": null,
      "outputs": [
        {
          "output_type": "stream",
          "text": [
            "/usr/local/lib/python3.6/dist-packages/statsmodels/tools/_testing.py:19: FutureWarning: pandas.util.testing is deprecated. Use the functions in the public API at pandas.testing instead.\n",
            "  import pandas.util.testing as tm\n"
          ],
          "name": "stderr"
        },
        {
          "output_type": "execute_result",
          "data": {
            "text/plain": [
              "'\\nIf you use Anaconda with PyCharm uncomment these lines to show the figure.\\n'"
            ]
          },
          "metadata": {
            "tags": []
          },
          "execution_count": 19
        },
        {
          "output_type": "display_data",
          "data": {
            "image/png": "[encoded data removed]",
            "text/plain": [
              "<Figure size 432x288 with 1 Axes>"
            ]
          },
          "metadata": {
            "tags": [],
            "needs_background": "light"
          }
        }
      ]
    },
    {
      "cell_type": "code",
      "metadata": {
        "id": "9S3AJBYKD658"
      },
      "source": [
        "X_train, X_test, y_train, y_test = \\\n",
        "    model_selection.train_test_split(DF_text['reviews'], \n",
        "                                     DF_text['labels'], test_size=0.30)\n"
      ],
      "execution_count": null,
      "outputs": []
    },
    {
      "cell_type": "code",
      "metadata": {
        "id": "foIJcnJtEeeP"
      },
      "source": [
        "#Convert them to the list array."
      ],
      "execution_count": null,
      "outputs": []
    },
    {
      "cell_type": "code",
      "metadata": {
        "id": "anqes7EdEQgS"
      },
      "source": [
        "import numpy as np\n",
        "\n",
        "X_train = np.array(X_train.to_list())\n",
        "X_test = np.array(X_test.to_list())\n",
        "\n",
        "y_train = np.array(y_train.to_list())\n",
        "y_test = np.array(y_test.to_list())"
      ],
      "execution_count": null,
      "outputs": []
    },
    {
      "cell_type": "code",
      "metadata": {
        "id": "zsLNmYemE_3o",
        "colab": {
          "base_uri": "https://localhost:8080/",
          "height": 35
        },
        "outputId": "a7f3c64d-099d-4efd-86b7-31e5564323b8"
      },
      "source": [
        "from keras_preprocessing.text import Tokenizer\n",
        "\n",
        "tokenizer = Tokenizer()\n",
        "tokenizer.fit_on_texts(X_train)\n",
        "word_index = tokenizer.word_index\n",
        "vocab_size = len(word_index)+1\n",
        "print(vocab_size)"
      ],
      "execution_count": null,
      "outputs": [
        {
          "output_type": "stream",
          "text": [
            "77330\n"
          ],
          "name": "stdout"
        }
      ]
    },
    {
      "cell_type": "code",
      "metadata": {
        "id": "tF7naKmwFDI-"
      },
      "source": [
        "X_train = tokenizer.texts_to_sequences(X_train)\n",
        "X_test = tokenizer.texts_to_sequences(X_test)"
      ],
      "execution_count": null,
      "outputs": []
    },
    {
      "cell_type": "code",
      "metadata": {
        "id": "U4htjThGIgfo"
      },
      "source": [
        "from tensorflow.keras.preprocessing.sequence import pad_sequences\n",
        "from tensorflow.keras.utils import to_categorical\n",
        "\n",
        "max_len = 100\n",
        "\n",
        "X_train_pad = pad_sequences(X_train,padding ='post', maxlen = max_len)\n",
        "X_test_pad = pad_sequences(X_test,padding= 'post', maxlen = max_len)"
      ],
      "execution_count": null,
      "outputs": []
    },
    {
      "cell_type": "code",
      "metadata": {
        "id": "eyfIFd1vc4qt"
      },
      "source": [
        "# input_dim: Size of the vocabulary in the text data.\n",
        "# output_dim: Size of the vector space in which words will be embedded. This is a parameter that can be experimented for having a better performance. (ex: 32, 100, …)\n",
        "# input_length: Length of input sequences"
      ],
      "execution_count": null,
      "outputs": []
    },
    {
      "cell_type": "code",
      "metadata": {
        "id": "p7cp_8AbJtUu"
      },
      "source": [
        "\n",
        "from tensorflow.keras.layers import Dense,LSTM,Embedding,Bidirectional\n",
        "from tensorflow.keras.models import Sequential\n",
        "\n",
        "model = Sequential()\n",
        "model.add(Embedding(vocab_size,32))\n",
        "#model.add(Bidirectional(LSTM(32,return_sequences=True)))\n",
        "model.add(Bidirectional(LSTM(32)))\n",
        "#for units in [32,32]:\n",
        " #model.add(Dense(units, activation = 'relu'))\n",
        "model.add(Dense(32, activation='relu'))\n",
        "model.add(tf.keras.layers.Dropout(0.2)) \n",
        "model.add(Dense(1,activation ='sigmoid'))"
      ],
      "execution_count": null,
      "outputs": []
    },
    {
      "cell_type": "code",
      "metadata": {
        "id": "ro7oOYK_fodF"
      },
      "source": [
        "import tensorflow as tf\n",
        "model.compile(optimizer='adam',\n",
        "            loss= tf.keras.losses.BinaryCrossentropy(from_logits=True),\n",
        "              metrics = ['accuracy'])"
      ],
      "execution_count": null,
      "outputs": []
    },
    {
      "cell_type": "code",
      "metadata": {
        "id": "htUkAZG8gAcD",
        "colab": {
          "base_uri": "https://localhost:8080/",
          "height": 104
        },
        "outputId": "b17c71aa-831d-40a2-a006-2774365d8ba1"
      },
      "source": [
        "model.layers"
      ],
      "execution_count": null,
      "outputs": [
        {
          "output_type": "execute_result",
          "data": {
            "text/plain": [
              "[<tensorflow.python.keras.layers.embeddings.Embedding at 0x7f90340a1550>,\n",
              " <tensorflow.python.keras.layers.wrappers.Bidirectional at 0x7f9045ff0860>,\n",
              " <tensorflow.python.keras.layers.core.Dense at 0x7f9045ffc898>,\n",
              " <tensorflow.python.keras.layers.core.Dropout at 0x7f9033769fd0>,\n",
              " <tensorflow.python.keras.layers.core.Dense at 0x7f9034598940>]"
            ]
          },
          "metadata": {
            "tags": []
          },
          "execution_count": 73
        }
      ]
    },
    {
      "cell_type": "code",
      "metadata": {
        "id": "ujCzanvngM4t",
        "colab": {
          "base_uri": "https://localhost:8080/",
          "height": 329
        },
        "outputId": "48b30e33-a6db-4696-e512-c9e2725bef58"
      },
      "source": [
        "model.summary()"
      ],
      "execution_count": null,
      "outputs": [
        {
          "output_type": "stream",
          "text": [
            "Model: \"sequential_9\"\n",
            "_________________________________________________________________\n",
            "Layer (type)                 Output Shape              Param #   \n",
            "=================================================================\n",
            "embedding_9 (Embedding)      (None, None, 32)          2474560   \n",
            "_________________________________________________________________\n",
            "bidirectional_13 (Bidirectio (None, 64)                16640     \n",
            "_________________________________________________________________\n",
            "dense_21 (Dense)             (None, 32)                2080      \n",
            "_________________________________________________________________\n",
            "dropout_8 (Dropout)          (None, 32)                0         \n",
            "_________________________________________________________________\n",
            "dense_22 (Dense)             (None, 1)                 33        \n",
            "=================================================================\n",
            "Total params: 2,493,313\n",
            "Trainable params: 2,493,313\n",
            "Non-trainable params: 0\n",
            "_________________________________________________________________\n"
          ],
          "name": "stdout"
        }
      ]
    },
    {
      "cell_type": "code",
      "metadata": {
        "id": "CeVpB_UEgmOp",
        "colab": {
          "base_uri": "https://localhost:8080/",
          "height": 364
        },
        "outputId": "28dea49f-4ffc-43e0-d508-64715751d5f5"
      },
      "source": [
        "history = model.fit(X_train_pad,y_train,batch_size=128,epochs=10,verbose=1,validation_data=(X_test_pad,y_test))"
      ],
      "execution_count": null,
      "outputs": [
        {
          "output_type": "stream",
          "text": [
            "Epoch 1/10\n",
            "394/394 [==============================] - 14s 36ms/step - loss: 0.5655 - accuracy: 0.8617 - val_loss: 0.5627 - val_accuracy: 0.8658\n",
            "Epoch 2/10\n",
            "394/394 [==============================] - 14s 35ms/step - loss: 0.5462 - accuracy: 0.9050 - val_loss: 0.5622 - val_accuracy: 0.8593\n",
            "Epoch 3/10\n",
            "394/394 [==============================] - 13s 34ms/step - loss: 0.5375 - accuracy: 0.9247 - val_loss: 0.5599 - val_accuracy: 0.8757\n",
            "Epoch 4/10\n",
            "394/394 [==============================] - 13s 33ms/step - loss: 0.5336 - accuracy: 0.9335 - val_loss: 0.5619 - val_accuracy: 0.8785\n",
            "Epoch 5/10\n",
            "394/394 [==============================] - 13s 34ms/step - loss: 0.5292 - accuracy: 0.9434 - val_loss: 0.5604 - val_accuracy: 0.8806\n",
            "Epoch 6/10\n",
            "394/394 [==============================] - 13s 34ms/step - loss: 0.5267 - accuracy: 0.9487 - val_loss: 0.5600 - val_accuracy: 0.8707\n",
            "Epoch 7/10\n",
            "394/394 [==============================] - 13s 34ms/step - loss: 0.5251 - accuracy: 0.9524 - val_loss: 0.5597 - val_accuracy: 0.8737\n",
            "Epoch 8/10\n",
            "394/394 [==============================] - 13s 34ms/step - loss: 0.5243 - accuracy: 0.9538 - val_loss: 0.5600 - val_accuracy: 0.8744\n",
            "Epoch 9/10\n",
            "394/394 [==============================] - 14s 35ms/step - loss: 0.5229 - accuracy: 0.9571 - val_loss: 0.5608 - val_accuracy: 0.8751\n",
            "Epoch 10/10\n",
            "394/394 [==============================] - 13s 34ms/step - loss: 0.5227 - accuracy: 0.9575 - val_loss: 0.5639 - val_accuracy: 0.8717\n"
          ],
          "name": "stdout"
        }
      ]
    },
    {
      "cell_type": "code",
      "metadata": {
        "id": "fHkA2AqBinE8"
      },
      "source": [
        "model.save('/tmp/Amazon_Reviews_sentiment_analysis.hdf5')"
      ],
      "execution_count": null,
      "outputs": []
    },
    {
      "cell_type": "code",
      "metadata": {
        "id": "Pxcb1xDUk9CR"
      },
      "source": [
        "def pad_to_size(vec, size):\n",
        "  zeros = [0]* (size - len(vec))\n",
        "  vec.extend(zeros)\n",
        "  return vec"
      ],
      "execution_count": null,
      "outputs": []
    },
    {
      "cell_type": "code",
      "metadata": {
        "id": "NsoJ-oZCmDmG"
      },
      "source": [
        "from keras_preprocessing.text import Tokenizer\n",
        "\n",
        "tokenizer = Tokenizer()\n",
        "tokenizer = tfds.features.text.Tokenizer()\n",
        "\n",
        "def predict_fn(pred_text):\n",
        "  encoded_pred_text = tokenizer(pred_text)\n",
        "  print(encoded_pred_text)\n",
        "  encoded_pred_text = pad_to_size(encoded_pred_text, 32)\n",
        "  print(encoded_pred_text )\n",
        "  encoded_pred_text = tf.cast(encoded_pred_text, tf.float32)\n",
        "  predictions = sa_load.predict(tf.expand_dims(encoded_pred_text ,0))\n",
        "\n",
        "  return (predictions)"
      ],
      "execution_count": null,
      "outputs": []
    },
    {
      "cell_type": "code",
      "metadata": {
        "id": "v5UMZi3EnYON"
      },
      "source": [
        "import tensorflow_datasets as tfds\n",
        "encoder = tfds.features.text.TokenTextEncoder(word_index)"
      ],
      "execution_count": null,
      "outputs": []
    },
    {
      "cell_type": "code",
      "metadata": {
        "id": "_4YlG6VLnYez"
      },
      "source": [
        "#print(word_index)"
      ],
      "execution_count": null,
      "outputs": []
    },
    {
      "cell_type": "code",
      "metadata": {
        "id": "7E5gX1VkT8vf"
      },
      "source": [
        "def sample_predict(sample_pred_text, pad):\n",
        "  encoded_sample_pred_text = encoder.encode(sample_pred_text)\n",
        "\n",
        "  if pad:\n",
        "    encoded_sample_pred_text = pad_to_size(encoded_sample_pred_text, 64)\n",
        "  encoded_sample_pred_text = tf.cast(encoded_sample_pred_text, tf.float32)\n",
        "  predictions = model.predict(tf.expand_dims(encoded_sample_pred_text, 0))\n",
        "\n",
        "  return (predictions)"
      ],
      "execution_count": null,
      "outputs": []
    },
    {
      "cell_type": "code",
      "metadata": {
        "id": "DR-QpWr8qM68",
        "colab": {
          "base_uri": "https://localhost:8080/",
          "height": 322
        },
        "outputId": "a613bf2e-27f3-4ba7-b867-995c8f162457"
      },
      "source": [
        "pred_text = ('This watch is pretty bad. Color and dial looks pathetic.')\n",
        "predictions = predict_fn(pred_text)\n",
        "print(predictions)"
      ],
      "execution_count": null,
      "outputs": [
        {
          "output_type": "error",
          "ename": "TypeError",
          "evalue": "ignored",
          "traceback": [
            "\u001b[0;31m---------------------------------------------------------------------------\u001b[0m",
            "\u001b[0;31mTypeError\u001b[0m                                 Traceback (most recent call last)",
            "\u001b[0;32m<ipython-input-105-5f96cba35cb7>\u001b[0m in \u001b[0;36m<module>\u001b[0;34m()\u001b[0m\n\u001b[1;32m      1\u001b[0m \u001b[0mpred_text\u001b[0m \u001b[0;34m=\u001b[0m \u001b[0;34m(\u001b[0m\u001b[0;34m'This watch is pretty bad. Color and dial looks pathetic.'\u001b[0m\u001b[0;34m)\u001b[0m\u001b[0;34m\u001b[0m\u001b[0;34m\u001b[0m\u001b[0m\n\u001b[0;32m----> 2\u001b[0;31m \u001b[0mpredictions\u001b[0m \u001b[0;34m=\u001b[0m \u001b[0mpredict_fn\u001b[0m\u001b[0;34m(\u001b[0m\u001b[0mpred_text\u001b[0m\u001b[0;34m)\u001b[0m\u001b[0;34m\u001b[0m\u001b[0;34m\u001b[0m\u001b[0m\n\u001b[0m\u001b[1;32m      3\u001b[0m \u001b[0mprint\u001b[0m\u001b[0;34m(\u001b[0m\u001b[0mpredictions\u001b[0m\u001b[0;34m)\u001b[0m\u001b[0;34m\u001b[0m\u001b[0;34m\u001b[0m\u001b[0m\n",
            "\u001b[0;32m<ipython-input-101-0f400f3ca74a>\u001b[0m in \u001b[0;36mpredict_fn\u001b[0;34m(pred_text)\u001b[0m\n\u001b[1;32m      5\u001b[0m \u001b[0;34m\u001b[0m\u001b[0m\n\u001b[1;32m      6\u001b[0m \u001b[0;32mdef\u001b[0m \u001b[0mpredict_fn\u001b[0m\u001b[0;34m(\u001b[0m\u001b[0mpred_text\u001b[0m\u001b[0;34m)\u001b[0m\u001b[0;34m:\u001b[0m\u001b[0;34m\u001b[0m\u001b[0;34m\u001b[0m\u001b[0m\n\u001b[0;32m----> 7\u001b[0;31m   \u001b[0mencoded_pred_text\u001b[0m \u001b[0;34m=\u001b[0m \u001b[0mtokenizer\u001b[0m\u001b[0;34m(\u001b[0m\u001b[0mpred_text\u001b[0m\u001b[0;34m)\u001b[0m\u001b[0;34m\u001b[0m\u001b[0;34m\u001b[0m\u001b[0m\n\u001b[0m\u001b[1;32m      8\u001b[0m   \u001b[0mprint\u001b[0m\u001b[0;34m(\u001b[0m\u001b[0mencoded_pred_text\u001b[0m\u001b[0;34m)\u001b[0m\u001b[0;34m\u001b[0m\u001b[0;34m\u001b[0m\u001b[0m\n\u001b[1;32m      9\u001b[0m   \u001b[0mencoded_pred_text\u001b[0m \u001b[0;34m=\u001b[0m \u001b[0mpad_to_size\u001b[0m\u001b[0;34m(\u001b[0m\u001b[0mencoded_pred_text\u001b[0m\u001b[0;34m,\u001b[0m \u001b[0;36m32\u001b[0m\u001b[0;34m)\u001b[0m\u001b[0;34m\u001b[0m\u001b[0;34m\u001b[0m\u001b[0m\n",
            "\u001b[0;31mTypeError\u001b[0m: 'Tokenizer' object is not callable"
          ]
        }
      ]
    },
    {
      "cell_type": "code",
      "metadata": {
        "id": "K1WHwCCQTzm1"
      },
      "source": [],
      "execution_count": null,
      "outputs": []
    }
  ]
}